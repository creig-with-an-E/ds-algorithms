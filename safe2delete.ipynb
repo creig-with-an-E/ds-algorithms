{
 "cells": [
  {
   "cell_type": "code",
   "execution_count": 53,
   "id": "55c98175-f067-4ed3-a423-873232ca87a1",
   "metadata": {},
   "outputs": [],
   "source": [
    "data = [{'activate_at': None, 'active': True, 'active_africa': True, 'active_can': True, 'active_eu': True, 'active_global': True, 'active_latinamerica': True, 'active_oceania': True, 'active_us': True, 'ad_support': True, 'ages0to2': True, 'ages3to4': True, 'ages5to8': True, 'ages9to12': True, 'country_blacklist': '', 'deactivate_at': None, 'gender': 'N', 'id': 880, 'name': 'Splash N Boots', 'slug': 'SplashNBoots', 'summary_long': 'Splash N Boots Product Summary Long 880', 'summary_short': 'Splash N Boots Product Summary Short 880'}, {'activate_at': None, 'active': True, 'active_africa': True, 'active_can': True, 'active_eu': True, 'active_global': True, 'active_latinamerica': True, 'active_oceania': True, 'active_us': True, 'ad_support': True, 'ages0to2': True, 'ages3to4': True, 'ages5to8': True, 'ages9to12': True, 'country_blacklist': '', 'deactivate_at': None, 'gender': 'N', 'id': 927, 'name': 'Sunny Bunnies', 'slug': 'SunnyBunnies', 'summary_long': 'Sunny Bunnies Product Summary Long 927', 'summary_short': 'Sunny Bunnies Product Summary Short 927'}, {'activate_at': None, 'active': True, 'active_africa': True, 'active_can': True, 'active_eu': True, 'active_global': True, 'active_latinamerica': True, 'active_oceania': True, 'active_us': True, 'ad_support': True, 'ages0to2': True, 'ages3to4': True, 'ages5to8': True, 'ages9to12': True, 'country_blacklist': '', 'deactivate_at': None, 'gender': 'N', 'id': 950, 'name': 'Tayo', 'slug': 'Tayo', 'summary_long': 'Tayo Product Summary Long 950', 'summary_short': 'Tayo Product Summary Short 950'}, {'activate_at': None, 'active': True, 'active_africa': True, 'active_can': True, 'active_eu': True, 'active_global': True, 'active_latinamerica': True, 'active_oceania': True, 'active_us': True, 'ad_support': True, 'ages0to2': True, 'ages3to4': True, 'ages5to8': True, 'ages9to12': True, 'country_blacklist': '', 'deactivate_at': None, 'gender': 'N', 'id': 951, 'name': 'Zerby Derby', 'slug': 'ZerbyDerby', 'summary_long': 'Zerby Derby Product Summary Long 951', 'summary_short': 'Zerby Derby Product Summary Short 951'}, {'activate_at': None, 'active': True, 'active_africa': True, 'active_can': True, 'active_eu': True, 'active_global': True, 'active_latinamerica': True, 'active_oceania': True, 'active_us': True, 'ad_support': True, 'ages0to2': True, 'ages3to4': True, 'ages5to8': True, 'ages9to12': True, 'country_blacklist': '', 'deactivate_at': None, 'gender': 'N', 'id': 647957, 'name': 'Test Name 647957', 'slug': 'TestName647957', 'summary_long': 'Test Name 647957 Product Summary Long 647957', 'summary_short': 'Test Name 647957 Product Summary Short 647957'}, {'activate_at': None, 'active': True, 'active_africa': True, 'active_can': True, 'active_eu': True, 'active_global': True, 'active_latinamerica': True, 'active_oceania': True, 'active_us': True, 'ad_support': True, 'ages0to2': True, 'ages3to4': True, 'ages5to8': True, 'ages9to12': True, 'country_blacklist': '', 'deactivate_at': None, 'gender': 'N', 'id': 266694, 'name': 'Test Name 266694', 'slug': 'TestName266694', 'summary_long': 'Test Name 266694 Product Summary Long 266694', 'summary_short': 'Test Name 266694 Product Summary Short 266694'}, {'activate_at': None, 'active': True, 'active_africa': True, 'active_can': True, 'active_eu': True, 'active_global': True, 'active_latinamerica': True, 'active_oceania': True, 'active_us': True, 'ad_support': True, 'ages0to2': True, 'ages3to4': True, 'ages5to8': True, 'ages9to12': True, 'country_blacklist': '', 'deactivate_at': None, 'gender': 'N', 'id': 564269, 'name': 'Test Name 564269', 'slug': 'TestName564269', 'summary_long': 'Test Name 564269 Product Summary Long 564269', 'summary_short': 'Test Name 564269 Product Summary Short 564269'}, {'activate_at': None, 'active': True, 'active_africa': True, 'active_can': True, 'active_eu': True, 'active_global': True, 'active_latinamerica': True, 'active_oceania': True, 'active_us': True, 'ad_support': True, 'ages0to2': True, 'ages3to4': True, 'ages5to8': True, 'ages9to12': True, 'country_blacklist': '', 'deactivate_at': None, 'gender': 'N', 'id': 859874, 'name': 'Test Name 859874', 'slug': 'TestName859874', 'summary_long': 'Test Name 859874 Product Summary Long 859874', 'summary_short': 'Test Name 859874 Product Summary Short 859874'}, {'activate_at': None, 'active': True, 'active_africa': True, 'active_can': True, 'active_eu': True, 'active_global': True, 'active_latinamerica': True, 'active_oceania': True, 'active_us': True, 'ad_support': True, 'ages0to2': True, 'ages3to4': True, 'ages5to8': True, 'ages9to12': True, 'country_blacklist': '', 'deactivate_at': None, 'gender': 'N', 'id': 576695, 'name': 'Test Name 576695', 'slug': 'TestName576695', 'summary_long': 'Test Name 576695 Product Summary Long 576695', 'summary_short': 'Test Name 576695 Product Summary Short 576695'}, {'activate_at': None, 'active': True, 'active_africa': True, 'active_can': True, 'active_eu': True, 'active_global': True, 'active_latinamerica': True, 'active_oceania': True, 'active_us': True, 'ad_support': True, 'ages0to2': True, 'ages3to4': True, 'ages5to8': True, 'ages9to12': True, 'country_blacklist': '', 'deactivate_at': None, 'gender': 'N', 'id': 173000, 'name': 'Test Name 173000', 'slug': 'TestName173000', 'summary_long': 'Test Name 173000 Product Summary Long 173000', 'summary_short': 'Test Name 173000 Product Summary Short 173000'}, {'activate_at': None, 'active': True, 'active_africa': True, 'active_can': True, 'active_eu': True, 'active_global': True, 'active_latinamerica': True, 'active_oceania': True, 'active_us': True, 'ad_support': True, 'ages0to2': True, 'ages3to4': True, 'ages5to8': True, 'ages9to12': True, 'country_blacklist': '', 'deactivate_at': None, 'gender': 'N', 'id': 627219, 'name': 'Test Name 627219', 'slug': 'TestName627219', 'summary_long': 'Test Name 627219 Product Summary Long 627219', 'summary_short': 'Test Name 627219 Product Summary Short 627219'}, {'activate_at': None, 'active': True, 'active_africa': True, 'active_can': True, 'active_eu': True, 'active_global': True, 'active_latinamerica': True, 'active_oceania': True, 'active_us': True, 'ad_support': True, 'ages0to2': True, 'ages3to4': True, 'ages5to8': True, 'ages9to12': True, 'country_blacklist': '', 'deactivate_at': None, 'gender': 'N', 'id': 475893, 'name': 'Test Name 475893', 'slug': 'TestName475893', 'summary_long': 'Test Name 475893 Product Summary Long 475893', 'summary_short': 'Test Name 475893 Product Summary Short 475893'}, {'activate_at': None, 'active': True, 'active_africa': True, 'active_can': True, 'active_eu': True, 'active_global': True, 'active_latinamerica': True, 'active_oceania': True, 'active_us': True, 'ad_support': True, 'ages0to2': True, 'ages3to4': True, 'ages5to8': True, 'ages9to12': True, 'country_blacklist': '', 'deactivate_at': None, 'gender': 'N', 'id': 1050, 'name': 'Magic Ball', 'slug': 'MagicBall', 'summary_long': 'Magic Ball Product Summary Long 1050', 'summary_short': 'Magic Ball Product Summary Short 1050'}, {'activate_at': None, 'active': True, 'active_africa': True, 'active_can': True, 'active_eu': True, 'active_global': True, 'active_latinamerica': True, 'active_oceania': True, 'active_us': True, 'ad_support': True, 'ages0to2': True, 'ages3to4': True, 'ages5to8': True, 'ages9to12': True, 'country_blacklist': '', 'deactivate_at': None, 'gender': 'N', 'id': 695547, 'name': 'Test Name 695547', 'slug': 'TestName695547', 'summary_long': 'Test Name 695547 Product Summary Long 695547', 'summary_short': 'Test Name 695547 Product Summary Short 695547'}, {'activate_at': None, 'active': True, 'active_africa': True, 'active_can': True, 'active_eu': True, 'active_global': True, 'active_latinamerica': True, 'active_oceania': True, 'active_us': True, 'ad_support': True, 'ages0to2': True, 'ages3to4': True, 'ages5to8': True, 'ages9to12': True, 'country_blacklist': '', 'deactivate_at': None, 'gender': 'N', 'id': 400279, 'name': 'Test Name 400279', 'slug': 'TestName400279', 'summary_long': 'Test Name 400279 Product Summary Long 400279', 'summary_short': 'Test Name 400279 Product Summary Short 400279'}, {'activate_at': None, 'active': True, 'active_africa': True, 'active_can': True, 'active_eu': True, 'active_global': True, 'active_latinamerica': True, 'active_oceania': True, 'active_us': True, 'ad_support': True, 'ages0to2': True, 'ages3to4': True, 'ages5to8': True, 'ages9to12': True, 'country_blacklist': '', 'deactivate_at': None, 'gender': 'N', 'id': 484403, 'name': 'Test Name 484403', 'slug': 'TestName484403', 'summary_long': 'Test Name 484403 Product Summary Long 484403', 'summary_short': 'Test Name 484403 Product Summary Short 484403'}, {'activate_at': None, 'active': True, 'active_africa': True, 'active_can': True, 'active_eu': True, 'active_global': True, 'active_latinamerica': True, 'active_oceania': True, 'active_us': True, 'ad_support': True, 'ages0to2': True, 'ages3to4': True, 'ages5to8': True, 'ages9to12': True, 'country_blacklist': '', 'deactivate_at': None, 'gender': 'N', 'id': 72554, 'name': 'Test Name 72554', 'slug': 'TestName72554', 'summary_long': 'Test Name 72554 Product Summary Long 72554', 'summary_short': 'Test Name 72554 Product Summary Short 72554'}, {'activate_at': None, 'active': True, 'active_africa': True, 'active_can': True, 'active_eu': True, 'active_global': True, 'active_latinamerica': True, 'active_oceania': True, 'active_us': True, 'ad_support': True, 'ages0to2': True, 'ages3to4': True, 'ages5to8': True, 'ages9to12': True, 'country_blacklist': '', 'deactivate_at': None, 'gender': 'N', 'id': 290602, 'name': 'Test Name 290602', 'slug': 'TestName290602', 'summary_long': 'Test Name 290602 Product Summary Long 290602', 'summary_short': 'Test Name 290602 Product Summary Short 290602'}, {'activate_at': None, 'active': True, 'active_africa': True, 'active_can': True, 'active_eu': True, 'active_global': True, 'active_latinamerica': True, 'active_oceania': True, 'active_us': True, 'ad_support': True, 'ages0to2': True, 'ages3to4': True, 'ages5to8': True, 'ages9to12': True, 'country_blacklist': '', 'deactivate_at': None, 'gender': 'N', 'id': 65584, 'name': 'Test Name 65584', 'slug': 'TestName65584', 'summary_long': 'Test Name 65584 Product Summary Long 65584', 'summary_short': 'Test Name 65584 Product Summary Short 65584'}, {'activate_at': None, 'active': True, 'active_africa': True, 'active_can': True, 'active_eu': True, 'active_global': True, 'active_latinamerica': True, 'active_oceania': True, 'active_us': True, 'ad_support': True, 'ages0to2': True, 'ages3to4': True, 'ages5to8': True, 'ages9to12': True, 'country_blacklist': '', 'deactivate_at': None, 'gender': 'N', 'id': 835448, 'name': 'Test Name 835448', 'slug': 'TestName835448', 'summary_long': 'Test Name 835448 Product Summary Long 835448', 'summary_short': 'Test Name 835448 Product Summary Short 835448'}, {'activate_at': None, 'active': True, 'active_africa': True, 'active_can': True, 'active_eu': True, 'active_global': True, 'active_latinamerica': True, 'active_oceania': True, 'active_us': True, 'ad_support': True, 'ages0to2': True, 'ages3to4': True, 'ages5to8': True, 'ages9to12': True, 'country_blacklist': '', 'deactivate_at': None, 'gender': 'N', 'id': 767065, 'name': 'Test Name 767065', 'slug': 'TestName767065', 'summary_long': 'Test Name 767065 Product Summary Long 767065', 'summary_short': 'Test Name 767065 Product Summary Short 767065'}, {'activate_at': None, 'active': True, 'active_africa': True, 'active_can': True, 'active_eu': True, 'active_global': True, 'active_latinamerica': True, 'active_oceania': True, 'active_us': True, 'ad_support': True, 'ages0to2': True, 'ages3to4': True, 'ages5to8': True, 'ages9to12': True, 'country_blacklist': '', 'deactivate_at': None, 'gender': 'N', 'id': 225578, 'name': 'Test Name 225578', 'slug': 'TestName225578', 'summary_long': 'Test Name 225578 Product Summary Long 225578', 'summary_short': 'Test Name 225578 Product Summary Short 225578'}, {'activate_at': None, 'active': True, 'active_africa': True, 'active_can': True, 'active_eu': True, 'active_global': True, 'active_latinamerica': True, 'active_oceania': True, 'active_us': True, 'ad_support': True, 'ages0to2': True, 'ages3to4': True, 'ages5to8': True, 'ages9to12': True, 'country_blacklist': '', 'deactivate_at': None, 'gender': 'N', 'id': 123, 'name': 'Aarons Animals New', 'slug': 'AaronsAnimalsNew', 'summary_long': 'Aarons Animals New Product Summary Long 123', 'summary_short': 'Aarons Animals New Product Summary Short 123'}, {'activate_at': None, 'active': True, 'active_africa': True, 'active_can': True, 'active_eu': True, 'active_global': True, 'active_latinamerica': True, 'active_oceania': True, 'active_us': True, 'ad_support': True, 'ages0to2': True, 'ages3to4': True, 'ages5to8': True, 'ages9to12': True, 'country_blacklist': '', 'deactivate_at': None, 'gender': 'N', 'id': 234, 'name': 'Animals At Work', 'slug': 'AnimalsAtWork', 'summary_long': 'Animals At Work Product Summary Long 234', 'summary_short': 'Animals At Work Product Summary Short 234'}]"
   ]
  },
  {
   "cell_type": "code",
   "execution_count": 54,
   "id": "34ecce54-b5df-41ea-a267-7151133de7cf",
   "metadata": {},
   "outputs": [
    {
     "data": {
      "text/plain": [
       "[{'activate_at': None,\n",
       "  'active': True,\n",
       "  'active_africa': True,\n",
       "  'active_can': True,\n",
       "  'active_eu': True,\n",
       "  'active_global': True,\n",
       "  'active_latinamerica': True,\n",
       "  'active_oceania': True,\n",
       "  'active_us': True,\n",
       "  'ad_support': True,\n",
       "  'ages0to2': True,\n",
       "  'ages3to4': True,\n",
       "  'ages5to8': True,\n",
       "  'ages9to12': True,\n",
       "  'country_blacklist': '',\n",
       "  'deactivate_at': None,\n",
       "  'gender': 'N',\n",
       "  'id': 880,\n",
       "  'name': 'Splash N Boots',\n",
       "  'slug': 'SplashNBoots',\n",
       "  'summary_long': 'Splash N Boots Product Summary Long 880',\n",
       "  'summary_short': 'Splash N Boots Product Summary Short 880'}]"
      ]
     },
     "execution_count": 54,
     "metadata": {},
     "output_type": "execute_result"
    }
   ],
   "source": [
    "list(filter(lambda prd: prd['id'] == 880,data))"
   ]
  },
  {
   "cell_type": "code",
   "execution_count": 50,
   "id": "30cf4d07-b874-4832-8233-24092fd50ceb",
   "metadata": {},
   "outputs": [],
   "source": [
    "data.append({'activate_at': None, 'active': True, 'active_africa': True, 'active_can': True, 'active_eu': True, 'active_global': True, 'active_latinamerica': True, 'active_oceania': True, 'active_us': True, 'ad_support': True, 'ages0to2': True, 'ages3to4': True, 'ages5to8': True, 'ages9to12': True, 'country_blacklist': '', 'deactivate_at': None, 'gender': 'N', 'id': 880, 'name': 'Splash N Boots', 'slug': 'SplashNBoots', 'summary_long': 'Splash N Boots Product Summary Long 880', 'summary_short': 'Splash N Boots Product Summary Short 880'})\n",
    "d = {}\n",
    "for element in data:\n",
    "    d[element['id']] = d.get(element['id'],0) + 1"
   ]
  },
  {
   "cell_type": "code",
   "execution_count": 51,
   "id": "4e6faaf4-74a3-4a90-b284-1a9fbcc3f6e1",
   "metadata": {},
   "outputs": [
    {
     "data": {
      "text/plain": [
       "24"
      ]
     },
     "execution_count": 51,
     "metadata": {},
     "output_type": "execute_result"
    }
   ],
   "source": [
    "len(d.keys())"
   ]
  },
  {
   "cell_type": "code",
   "execution_count": 52,
   "id": "027d57f3-4f54-433e-b9c8-1525d672904a",
   "metadata": {},
   "outputs": [
    {
     "data": {
      "text/plain": [
       "{880: 2,\n",
       " 927: 1,\n",
       " 950: 1,\n",
       " 951: 1,\n",
       " 542703: 1,\n",
       " 173491: 1,\n",
       " 286163: 1,\n",
       " 185910: 1,\n",
       " 473277: 1,\n",
       " 708292: 1,\n",
       " 866234: 1,\n",
       " 169475: 1,\n",
       " 230203: 1,\n",
       " 99744: 1,\n",
       " 404895: 1,\n",
       " 313931: 1,\n",
       " 724140: 1,\n",
       " 830411: 1,\n",
       " 720684: 1,\n",
       " 881007: 1,\n",
       " 38622: 1,\n",
       " 639604: 1,\n",
       " 123: 1,\n",
       " 234: 1}"
      ]
     },
     "execution_count": 52,
     "metadata": {},
     "output_type": "execute_result"
    }
   ],
   "source": [
    "d"
   ]
  },
  {
   "cell_type": "code",
   "execution_count": null,
   "id": "8ab2af55-7f21-4d39-b7aa-5236188959f4",
   "metadata": {},
   "outputs": [],
   "source": []
  },
  {
   "cell_type": "code",
   "execution_count": null,
   "id": "722e4e1e-d578-49b1-86a9-dcc6c10bc395",
   "metadata": {},
   "outputs": [],
   "source": []
  },
  {
   "cell_type": "code",
   "execution_count": null,
   "id": "2ccda936-8d40-4a2a-8fe5-3675ac35855f",
   "metadata": {},
   "outputs": [],
   "source": []
  },
  {
   "cell_type": "code",
   "execution_count": 56,
   "id": "2db16267-24d0-43b0-9bbf-4af1906222aa",
   "metadata": {},
   "outputs": [],
   "source": [
    "from datetime import datetime, timedelta"
   ]
  },
  {
   "cell_type": "code",
   "execution_count": 58,
   "id": "847ae8f5-49be-4f03-8c48-9c0fa1162fa6",
   "metadata": {},
   "outputs": [
    {
     "data": {
      "text/plain": [
       "datetime.datetime(2022, 2, 14, 11, 7, 25, 712535)"
      ]
     },
     "execution_count": 58,
     "metadata": {},
     "output_type": "execute_result"
    }
   ],
   "source": [
    "datetime.now() + timedelta(hours=-1)"
   ]
  },
  {
   "cell_type": "code",
   "execution_count": null,
   "id": "257b6295-fe9e-4a76-9e13-217ea9cfe33c",
   "metadata": {},
   "outputs": [],
   "source": []
  },
  {
   "cell_type": "code",
   "execution_count": 66,
   "id": "bbfc4909-3d03-494b-b2cf-33c0b94d5885",
   "metadata": {},
   "outputs": [],
   "source": [
    "import random\n",
    "def generate_ids(count=None, active=True, ids_names_statuses=None):\n",
    "    \"\"\"\n",
    "    Example: generate_ids(count=7, ids_names_statuses=[\n",
    "                                        (23, 'Booba', False),\n",
    "                                        (44, 'YoohooFriends', False),\n",
    "                                        (50, 'Tayo', True)])\n",
    "    Returns: [(23, 'Booba', False), (44, 'YoohooFriends', False),\n",
    "                (50, 'Tayo', True), (78278, 'Test Name 78278', True),\n",
    "                (78432, 'Test Name 78278',True),\n",
    "                (74329, 'Test Name 74329', True),\n",
    "                (73282, 'Test Name 73282', True)]\n",
    "\n",
    "    Example: generate_ids()\n",
    "    Returns: [(73282, 'Test Name 73282', True)]\n",
    "\n",
    "    Example: generate_ids(active=False)\n",
    "    Returns: [(73282, 'Test Name 73282', False)]\n",
    "\n",
    "    Example: generate_ids(ids_names_statuses=[(23, 'Booba', False)])\n",
    "    Returns: [(23, 'Booba', False)]\n",
    "    \"\"\"\n",
    "    id_list = []\n",
    "\n",
    "    # to limit collisions between ids\n",
    "    range_list = range(7000, 899999)\n",
    "    if active is False:\n",
    "        range_list = range(900000, 999999)\n",
    "\n",
    "    if count is not None and ids_names_statuses is not None:\n",
    "        id_list = [*ids_names_statuses]\n",
    "        new_ids = random.sample(range_list,\n",
    "                                count - len(ids_names_statuses))\n",
    "        id_list += [(i, f'Test Name {i}', active) for i in new_ids]\n",
    "\n",
    "    elif ids_names_statuses is not None:\n",
    "        id_list = [*ids_names_statuses]\n",
    "\n",
    "    elif count is not None:\n",
    "        new_ids = random.sample(range_list, count)\n",
    "        id_list += [(i, f'Test Name {i}', active) for i in new_ids]\n",
    "    return id_list"
   ]
  },
  {
   "cell_type": "code",
   "execution_count": 67,
   "id": "5baafe8c-82ad-4a26-b6a7-810757e04c2b",
   "metadata": {},
   "outputs": [],
   "source": [
    "# x = [(23, 'Booba', False),(14, 'Bos', False), (880, 'Boobalooo', True)]"
   ]
  },
  {
   "cell_type": "code",
   "execution_count": 70,
   "id": "1462f554-60e4-4815-bbb1-55b36ea776db",
   "metadata": {},
   "outputs": [
    {
     "data": {
      "text/plain": [
       "[(23, 'Booba', False),\n",
       " (14, 'Bos', False),\n",
       " (880, 'Boobalooo', True),\n",
       " (721047, 'Test Name 721047', True),\n",
       " (191743, 'Test Name 191743', True),\n",
       " (583061, 'Test Name 583061', True),\n",
       " (790000, 'Test Name 790000', True),\n",
       " (646962, 'Test Name 646962', True),\n",
       " (346406, 'Test Name 346406', True),\n",
       " (272523, 'Test Name 272523', True)]"
      ]
     },
     "execution_count": 70,
     "metadata": {},
     "output_type": "execute_result"
    }
   ],
   "source": [
    "generate_ids(count=10,ids_names_statuses=[(23, 'Booba', False),(14, 'Bos', False), (880, 'Boobalooo', True)])"
   ]
  },
  {
   "cell_type": "code",
   "execution_count": null,
   "id": "82f38153-332a-4a11-a722-7ad2f16a0fc1",
   "metadata": {},
   "outputs": [],
   "source": []
  },
  {
   "cell_type": "code",
   "execution_count": 82,
   "id": "18bdf1f4-c744-4fe7-b107-f2ea4d13eeeb",
   "metadata": {},
   "outputs": [
    {
     "data": {
      "text/plain": [
       "False"
      ]
     },
     "execution_count": 82,
     "metadata": {},
     "output_type": "execute_result"
    }
   ],
   "source": [
    "81 % 2 == 0"
   ]
  },
  {
   "cell_type": "code",
   "execution_count": 79,
   "id": "3415c73b-dd40-4ac1-8c9a-136b440226b6",
   "metadata": {},
   "outputs": [
    {
     "ename": "AttributeError",
     "evalue": "'list' object has no attribute 'keys'",
     "output_type": "error",
     "traceback": [
      "\u001b[0;31m---------------------------------------------------------------------------\u001b[0m",
      "\u001b[0;31mAttributeError\u001b[0m                            Traceback (most recent call last)",
      "\u001b[0;32m<ipython-input-79-b59bdd5c8d36>\u001b[0m in \u001b[0;36m<module>\u001b[0;34m\u001b[0m\n\u001b[0;32m----> 1\u001b[0;31m \u001b[0mdict\u001b[0m\u001b[0;34m(\u001b[0m\u001b[0;34m[\u001b[0m\u001b[0ma\u001b[0m\u001b[0;34m,\u001b[0m\u001b[0mb\u001b[0m\u001b[0;34m,\u001b[0m\u001b[0mc\u001b[0m\u001b[0;34m]\u001b[0m\u001b[0;34m.\u001b[0m\u001b[0mkeys\u001b[0m\u001b[0;34m(\u001b[0m\u001b[0;34m)\u001b[0m\u001b[0;34m)\u001b[0m\u001b[0;34m\u001b[0m\u001b[0;34m\u001b[0m\u001b[0m\n\u001b[0m",
      "\u001b[0;31mAttributeError\u001b[0m: 'list' object has no attribute 'keys'"
     ]
    }
   ],
   "source": [
    "dict([a,b,c].keys())"
   ]
  },
  {
   "cell_type": "code",
   "execution_count": 76,
   "id": "852422d8-dc11-4a60-b7b1-277b7e7a755b",
   "metadata": {},
   "outputs": [
    {
     "data": {
      "text/plain": [
       "[8928, 7997]"
      ]
     },
     "execution_count": 76,
     "metadata": {},
     "output_type": "execute_result"
    }
   ],
   "source": [
    "b"
   ]
  },
  {
   "cell_type": "code",
   "execution_count": null,
   "id": "b6873dad-d385-42bb-b83b-a812ddd6ea75",
   "metadata": {},
   "outputs": [],
   "source": []
  }
 ],
 "metadata": {
  "kernelspec": {
   "display_name": "Python 3",
   "language": "python",
   "name": "python3"
  },
  "language_info": {
   "codemirror_mode": {
    "name": "ipython",
    "version": 3
   },
   "file_extension": ".py",
   "mimetype": "text/x-python",
   "name": "python",
   "nbconvert_exporter": "python",
   "pygments_lexer": "ipython3",
   "version": "3.8.8"
  }
 },
 "nbformat": 4,
 "nbformat_minor": 5
}
