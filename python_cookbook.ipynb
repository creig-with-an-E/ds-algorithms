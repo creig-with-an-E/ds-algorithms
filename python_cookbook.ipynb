{
 "cells": [
  {
   "cell_type": "markdown",
   "id": "a3a62f51-eeff-4288-bca3-d9046ea9b3b9",
   "metadata": {},
   "source": [
    "#### Data Structures and algorithms"
   ]
  },
  {
   "cell_type": "code",
   "execution_count": 1,
   "id": "d28d207e-0da2-4ad9-a791-da8281bb52b0",
   "metadata": {},
   "outputs": [],
   "source": [
    "# unpacking a tuple\n",
    "\n",
    "p = (4,5)\n",
    "x,y = p"
   ]
  },
  {
   "cell_type": "code",
   "execution_count": null,
   "id": "41dbbd01-fe22-4862-a138-e0501d794cb7",
   "metadata": {},
   "outputs": [],
   "source": []
  },
  {
   "cell_type": "code",
   "execution_count": 4,
   "id": "61e7b040-3c98-4e68-b577-76345b8ab485",
   "metadata": {},
   "outputs": [],
   "source": [
    "data = ['ACME', 50, 91.1, (2022,3, 14)]"
   ]
  },
  {
   "cell_type": "code",
   "execution_count": 10,
   "id": "6f52266d-347f-4ec6-abf3-db9e80578c58",
   "metadata": {},
   "outputs": [],
   "source": [
    "name, shares, price, (year, month, day) = data"
   ]
  },
  {
   "cell_type": "code",
   "execution_count": null,
   "id": "b28f06d9-98a4-45d0-8004-2c3d1c4315b8",
   "metadata": {},
   "outputs": [],
   "source": []
  },
  {
   "cell_type": "code",
   "execution_count": 15,
   "id": "4614a61e-d40c-4df3-afdc-75a080ebea13",
   "metadata": {},
   "outputs": [],
   "source": [
    "s = 'HELLO'\n",
    "a,b,c,d,e = s"
   ]
  },
  {
   "cell_type": "code",
   "execution_count": 16,
   "id": "2ff0523e-cd29-4f36-aaf7-523bc593f5e8",
   "metadata": {},
   "outputs": [
    {
     "data": {
      "text/plain": [
       "'O'"
      ]
     },
     "execution_count": 16,
     "metadata": {},
     "output_type": "execute_result"
    }
   ],
   "source": []
  },
  {
   "cell_type": "code",
   "execution_count": 17,
   "id": "daebd9bc-c852-4e97-b9bd-264698e5dbf3",
   "metadata": {},
   "outputs": [],
   "source": [
    "def drop_first_last(grades):\n",
    "    first, *middle, last = grades\n",
    "    return avg(middle)"
   ]
  },
  {
   "cell_type": "code",
   "execution_count": 18,
   "id": "6e16b15d-9f07-4a39-b39d-f5e60d6d2340",
   "metadata": {},
   "outputs": [
    {
     "ename": "NameError",
     "evalue": "name 'avg' is not defined",
     "output_type": "error",
     "traceback": [
      "\u001b[0;31m---------------------------------------------------------------------------\u001b[0m",
      "\u001b[0;31mNameError\u001b[0m                                 Traceback (most recent call last)",
      "\u001b[0;32m<ipython-input-18-d7f27db3b9e0>\u001b[0m in \u001b[0;36m<module>\u001b[0;34m\u001b[0m\n\u001b[0;32m----> 1\u001b[0;31m \u001b[0mdrop_first_last\u001b[0m\u001b[0;34m(\u001b[0m\u001b[0;34m[\u001b[0m\u001b[0;36m1\u001b[0m\u001b[0;34m,\u001b[0m\u001b[0;36m2\u001b[0m\u001b[0;34m,\u001b[0m\u001b[0;36m4\u001b[0m\u001b[0;34m,\u001b[0m\u001b[0;36m5\u001b[0m\u001b[0;34m,\u001b[0m\u001b[0;36m6\u001b[0m\u001b[0;34m]\u001b[0m\u001b[0;34m)\u001b[0m\u001b[0;34m\u001b[0m\u001b[0;34m\u001b[0m\u001b[0m\n\u001b[0m",
      "\u001b[0;32m<ipython-input-17-459548740876>\u001b[0m in \u001b[0;36mdrop_first_last\u001b[0;34m(grades)\u001b[0m\n\u001b[1;32m      1\u001b[0m \u001b[0;32mdef\u001b[0m \u001b[0mdrop_first_last\u001b[0m\u001b[0;34m(\u001b[0m\u001b[0mgrades\u001b[0m\u001b[0;34m)\u001b[0m\u001b[0;34m:\u001b[0m\u001b[0;34m\u001b[0m\u001b[0;34m\u001b[0m\u001b[0m\n\u001b[1;32m      2\u001b[0m     \u001b[0mfirst\u001b[0m\u001b[0;34m,\u001b[0m \u001b[0;34m*\u001b[0m\u001b[0mmiddle\u001b[0m\u001b[0;34m,\u001b[0m \u001b[0mlast\u001b[0m \u001b[0;34m=\u001b[0m \u001b[0mgrades\u001b[0m\u001b[0;34m\u001b[0m\u001b[0;34m\u001b[0m\u001b[0m\n\u001b[0;32m----> 3\u001b[0;31m     \u001b[0;32mreturn\u001b[0m \u001b[0mavg\u001b[0m\u001b[0;34m(\u001b[0m\u001b[0mmiddle\u001b[0m\u001b[0;34m)\u001b[0m\u001b[0;34m\u001b[0m\u001b[0;34m\u001b[0m\u001b[0m\n\u001b[0m",
      "\u001b[0;31mNameError\u001b[0m: name 'avg' is not defined"
     ]
    }
   ],
   "source": [
    "drop_first_last([1,2,4,5,6])"
   ]
  },
  {
   "cell_type": "code",
   "execution_count": 19,
   "id": "a648166c-3237-4d0a-a9e5-c81c2efd25b3",
   "metadata": {},
   "outputs": [],
   "source": [
    "*trailing, current = [12,3,5,6,7,8]"
   ]
  },
  {
   "cell_type": "code",
   "execution_count": 21,
   "id": "48f5c65b-4cd4-48d3-81c2-f903669d836c",
   "metadata": {},
   "outputs": [
    {
     "data": {
      "text/plain": [
       "[12, 3, 5, 6, 7]"
      ]
     },
     "execution_count": 21,
     "metadata": {},
     "output_type": "execute_result"
    }
   ],
   "source": [
    "trailing"
   ]
  },
  {
   "cell_type": "code",
   "execution_count": null,
   "id": "e8d8ba00-ddf9-489d-94ed-a0f263e41875",
   "metadata": {},
   "outputs": [],
   "source": []
  },
  {
   "cell_type": "code",
   "execution_count": 23,
   "id": "c41e5f4e-b874-4dfc-8908-3d8700390bdc",
   "metadata": {},
   "outputs": [
    {
     "name": "stdout",
     "output_type": "stream",
     "text": [
      "20\n",
      "45\n",
      "21\n"
     ]
    }
   ],
   "source": [
    "records = [('dave', 20, 50), ('more',45,13), ('mbo',21,27)]\n",
    "\n",
    "for name, *args in records:\n",
    "    print(args[0])"
   ]
  },
  {
   "cell_type": "code",
   "execution_count": null,
   "id": "3073d732-5111-486c-8a77-b2376b15b4d3",
   "metadata": {},
   "outputs": [],
   "source": []
  },
  {
   "cell_type": "code",
   "execution_count": 25,
   "id": "39af021b-c84b-4aec-a5d1-5dbf5951c2c4",
   "metadata": {},
   "outputs": [],
   "source": [
    "from collections import deque\n",
    "\n",
    "_dq = deque(maxlen=6)"
   ]
  },
  {
   "cell_type": "code",
   "execution_count": 27,
   "id": "2ae94863-d25c-426b-97ae-94d86ef2f48f",
   "metadata": {},
   "outputs": [],
   "source": [
    "_dq.extend([1,2,3,4,5,6,7,8])"
   ]
  },
  {
   "cell_type": "code",
   "execution_count": 28,
   "id": "12096a73-51f3-499c-8542-50709ba8da3a",
   "metadata": {},
   "outputs": [
    {
     "data": {
      "text/plain": [
       "deque([3, 4, 5, 6, 7, 8])"
      ]
     },
     "execution_count": 28,
     "metadata": {},
     "output_type": "execute_result"
    }
   ],
   "source": [
    "_dq"
   ]
  },
  {
   "cell_type": "code",
   "execution_count": 29,
   "id": "fa6eccb9-6979-42d0-b773-f014f9b9d382",
   "metadata": {},
   "outputs": [],
   "source": [
    "_dq.append(9)"
   ]
  },
  {
   "cell_type": "code",
   "execution_count": 30,
   "id": "57555134-9cc0-435f-ac97-ce58a73822e6",
   "metadata": {},
   "outputs": [
    {
     "data": {
      "text/plain": [
       "deque([4, 5, 6, 7, 8, 9])"
      ]
     },
     "execution_count": 30,
     "metadata": {},
     "output_type": "execute_result"
    }
   ],
   "source": [
    "_dq"
   ]
  },
  {
   "cell_type": "code",
   "execution_count": 31,
   "id": "f6fdad7c-dfac-4c0d-8f6f-7bcd78f896b1",
   "metadata": {},
   "outputs": [],
   "source": [
    "_dq.append(10)"
   ]
  },
  {
   "cell_type": "code",
   "execution_count": 32,
   "id": "f3cf623e-80b7-4dbd-b4cd-b1412514ab1f",
   "metadata": {},
   "outputs": [
    {
     "data": {
      "text/plain": [
       "deque([5, 6, 7, 8, 9, 10])"
      ]
     },
     "execution_count": 32,
     "metadata": {},
     "output_type": "execute_result"
    }
   ],
   "source": [
    "_dq"
   ]
  },
  {
   "cell_type": "code",
   "execution_count": 35,
   "id": "bb36a3ae-cd4a-4129-9f69-b1e5ac9e2304",
   "metadata": {},
   "outputs": [
    {
     "name": "stdout",
     "output_type": "stream",
     "text": [
      "--------------------\n"
     ]
    }
   ],
   "source": [
    "print('-'*20)"
   ]
  },
  {
   "cell_type": "code",
   "execution_count": null,
   "id": "31ea0e2c-90e4-4183-b98c-8cd538a23829",
   "metadata": {},
   "outputs": [],
   "source": []
  }
 ],
 "metadata": {
  "kernelspec": {
   "display_name": "Python 3",
   "language": "python",
   "name": "python3"
  },
  "language_info": {
   "codemirror_mode": {
    "name": "ipython",
    "version": 3
   },
   "file_extension": ".py",
   "mimetype": "text/x-python",
   "name": "python",
   "nbconvert_exporter": "python",
   "pygments_lexer": "ipython3",
   "version": "3.8.8"
  }
 },
 "nbformat": 4,
 "nbformat_minor": 5
}
