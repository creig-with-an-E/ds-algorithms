{
 "cells": [
  {
   "cell_type": "code",
   "execution_count": 3,
   "id": "58df18e9-75c9-433b-8af7-03951bcab54c",
   "metadata": {},
   "outputs": [],
   "source": [
    "from copy import deepcopy\n",
    "def bubble_sort(x):\n",
    "    data_set = deepcopy(x)\n",
    "    for i in range(len(data_set)):\n",
    "        for j in range(len(data_set)-1):\n",
    "            if data_set[j] > data_set[j+1]:\n",
    "                data_set[j+1], data_set[j] = data_set[j], data_set[j+1]\n",
    "    return data_set\n"
   ]
  },
  {
   "cell_type": "code",
   "execution_count": 4,
   "id": "3007a24f-7275-4b9d-ac78-2cb302f6eae1",
   "metadata": {},
   "outputs": [
    {
     "name": "stdout",
     "output_type": "stream",
     "text": [
      "0\n",
      "1\n",
      "2\n",
      "3\n",
      "4\n",
      "5\n",
      "6\n",
      "7\n",
      "8\n"
     ]
    },
    {
     "data": {
      "text/plain": [
       "[-1, 0, 5, 7, 22, 34, 46, 68, 102]"
      ]
     },
     "execution_count": 4,
     "metadata": {},
     "output_type": "execute_result"
    }
   ],
   "source": [
    "bubble_sort([102,22,34,46,5,68,7, 0, -1])"
   ]
  },
  {
   "cell_type": "code",
   "execution_count": 57,
   "id": "9be5eb89-8ca1-4296-bdbe-623aa6344e71",
   "metadata": {},
   "outputs": [],
   "source": [
    "def selection_sort(x):\n",
    "    # scan the list and find the smallest item\n",
    "    # move the smallest to beginning and start over\n",
    "    for i in range(len(x)):\n",
    "        min_indx = i\n",
    "        for j in range(i+1, len(x)):\n",
    "            if x[j] < x[min_indx]:\n",
    "                min_indx = j\n",
    "        \n",
    "        x[i], x[min_indx] = x[min_indx], x[i]\n",
    "\n",
    "    return x"
   ]
  },
  {
   "cell_type": "code",
   "execution_count": 59,
   "id": "8aa1aa5e-b879-4302-b1ab-9d22a7263e14",
   "metadata": {},
   "outputs": [
    {
     "data": {
      "text/plain": [
       "[1, 2, 7, 67, 88, 99, 122]"
      ]
     },
     "execution_count": 59,
     "metadata": {},
     "output_type": "execute_result"
    }
   ],
   "source": [
    "selection_sort([122,99, 1, 67, 2, 7, 88])"
   ]
  },
  {
   "cell_type": "code",
   "execution_count": null,
   "id": "4d7b7f5c-0d3c-47b3-b684-b136ea436993",
   "metadata": {},
   "outputs": [],
   "source": []
  },
  {
   "cell_type": "code",
   "execution_count": null,
   "id": "a466007d-5ef0-4186-bcd4-1e14d235ad5c",
   "metadata": {},
   "outputs": [],
   "source": []
  }
 ],
 "metadata": {
  "kernelspec": {
   "display_name": "Python 3",
   "language": "python",
   "name": "python3"
  },
  "language_info": {
   "codemirror_mode": {
    "name": "ipython",
    "version": 3
   },
   "file_extension": ".py",
   "mimetype": "text/x-python",
   "name": "python",
   "nbconvert_exporter": "python",
   "pygments_lexer": "ipython3",
   "version": "3.8.8"
  }
 },
 "nbformat": 4,
 "nbformat_minor": 5
}
