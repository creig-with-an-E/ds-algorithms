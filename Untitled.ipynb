{
 "cells": [
  {
   "cell_type": "code",
   "execution_count": 20,
   "id": "b25af44c-ebca-4abf-8de4-0c15d43b2b73",
   "metadata": {},
   "outputs": [],
   "source": [
    "#!/bin/python3\n",
    "\n",
    "import math\n",
    "import os\n",
    "import random\n",
    "import re\n",
    "import sys\n",
    "\n",
    "\n",
    "\n",
    "#\n",
    "# Complete the 'countFamilyLogins' function below.\n",
    "#\n",
    "# The function is expected to return an INTEGER.\n",
    "# The function accepts STRING_ARRAY logins as parameter.\n",
    "#\n",
    "\n",
    "import string\n",
    "\n",
    "def update_string(_str):\n",
    "    '''\n",
    "    increments each char of string by 1\n",
    "    '''\n",
    "    _updated = ''\n",
    "    for i in _str:\n",
    "        if i == 'z':\n",
    "            _updated+='a'\n",
    "        else:   \n",
    "            _updated +=chr(ord(i)+1)\n",
    "\n",
    "    return _updated\n",
    "    \n",
    "def countFamilyLogins(logins):\n",
    "    # Write your code here\n",
    "    #  what happens here\n",
    "    \n",
    "    # background: creating a family plan for shared use\n",
    "    # logins are strings where the length of all strings are equal\n",
    "    # string will be each char+1\n",
    "    # iterate over the list, comparing each element with rest of the list\n",
    "    \n",
    "    _alphabet = list(string.ascii_lowercase)\n",
    "    lookup_hash = { sub_str: None for sub_str in logins}\n",
    "    pairs = 0\n",
    "    print(logins)\n",
    "    for i in range(len(logins)):\n",
    "        for j in range(0, len(logins)-1):\n",
    "            print(logins[i],'==', logins[j])\n",
    "            if update_string(logins[i]) == logins[j]:\n",
    "                pairs+= 1\n",
    "    \n",
    "    return pairs"
   ]
  },
  {
   "cell_type": "code",
   "execution_count": 21,
   "id": "2b62c84f-2f6b-4de9-b80e-9b7fed6eecf9",
   "metadata": {},
   "outputs": [
    {
     "name": "stdout",
     "output_type": "stream",
     "text": [
      "['cbu', 'bat']\n",
      "cbu == cbu\n",
      "bat == cbu\n"
     ]
    },
    {
     "data": {
      "text/plain": [
       "1"
      ]
     },
     "execution_count": 21,
     "metadata": {},
     "output_type": "execute_result"
    }
   ],
   "source": [
    "countFamilyLogins(['cbu', 'bat'])"
   ]
  },
  {
   "cell_type": "code",
   "execution_count": 23,
   "id": "8710c158-b6e1-4114-bafe-32dc279ac991",
   "metadata": {},
   "outputs": [
    {
     "data": {
      "text/plain": [
       "97"
      ]
     },
     "execution_count": 23,
     "metadata": {},
     "output_type": "execute_result"
    }
   ],
   "source": [
    "ord('a')"
   ]
  },
  {
   "cell_type": "code",
   "execution_count": null,
   "id": "865afad8-22ec-41cd-b57c-677ead418ce2",
   "metadata": {},
   "outputs": [],
   "source": []
  },
  {
   "cell_type": "code",
   "execution_count": 26,
   "id": "1733f436-fd63-4e5b-b77d-923b911c5efd",
   "metadata": {},
   "outputs": [
    {
     "name": "stdout",
     "output_type": "stream",
     "text": [
      "1 -- 1\n",
      "2 -- 1\n",
      "2 -- 2\n"
     ]
    }
   ],
   "source": [
    "for i in range(3):\n",
    "    for j in range(i+1):\n",
    "        print(i,j,sep=' -- ')"
   ]
  },
  {
   "cell_type": "code",
   "execution_count": 27,
   "id": "86b8f938-ef14-495f-b876-7b91089aea7d",
   "metadata": {},
   "outputs": [
    {
     "data": {
      "text/plain": [
       "[1, 2, 4, 5]"
      ]
     },
     "execution_count": 27,
     "metadata": {},
     "output_type": "execute_result"
    }
   ],
   "source": [
    "[0,1,2,4,5,6][1:5]"
   ]
  },
  {
   "cell_type": "code",
   "execution_count": null,
   "id": "344baa02-55ac-41f8-91dd-262bea21fa10",
   "metadata": {},
   "outputs": [],
   "source": []
  }
 ],
 "metadata": {
  "kernelspec": {
   "display_name": "Python 3",
   "language": "python",
   "name": "python3"
  },
  "language_info": {
   "codemirror_mode": {
    "name": "ipython",
    "version": 3
   },
   "file_extension": ".py",
   "mimetype": "text/x-python",
   "name": "python",
   "nbconvert_exporter": "python",
   "pygments_lexer": "ipython3",
   "version": "3.8.8"
  }
 },
 "nbformat": 4,
 "nbformat_minor": 5
}
