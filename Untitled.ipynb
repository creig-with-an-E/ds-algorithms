{
 "cells": [
  {
   "cell_type": "code",
   "execution_count": 26,
   "id": "3f81dc68-fd26-4b04-a5a7-195cadea62a3",
   "metadata": {},
   "outputs": [],
   "source": [
    "def reverse_str(string:str):\n",
    "    '''\n",
    "    Simply reverses string\n",
    "    '''\n",
    "    # check the input\n",
    "    if type(string) != str or not string:\n",
    "        raise TypeError('Invalid type passed to function')\n",
    "    \n",
    "#     rev_list = [ ]\n",
    "#     last_index = len(string)\n",
    "#     while last_index > 0:\n",
    "#         rev_list.append(string[last_index - 1])\n",
    "#         last_index -= 1\n",
    "    \n",
    "#     return ''.join(rev_list)\n",
    "\n",
    "    return string[::-1]"
   ]
  },
  {
   "cell_type": "code",
   "execution_count": 27,
   "id": "5a202abf-b364-4224-b574-f7fe719416dc",
   "metadata": {},
   "outputs": [
    {
     "data": {
      "text/plain": [
       "'xof ma I'"
      ]
     },
     "execution_count": 27,
     "metadata": {},
     "output_type": "execute_result"
    }
   ],
   "source": [
    "reverse_str('I am fox')"
   ]
  },
  {
   "cell_type": "code",
   "execution_count": null,
   "id": "e14d1b81-ff28-4a99-ad80-4f4984e37014",
   "metadata": {},
   "outputs": [],
   "source": []
  },
  {
   "cell_type": "code",
   "execution_count": 40,
   "id": "6a32ebc0-c02d-4439-b41d-5345c2b4aca2",
   "metadata": {},
   "outputs": [],
   "source": [
    "string = 'I am fox'\n",
    "_range = range(len(string) -1, -1, -1)\n",
    "# \n",
    "\n",
    "rev = ''.join([string[i] for i in _range])"
   ]
  },
  {
   "cell_type": "code",
   "execution_count": 41,
   "id": "076d9e87-9fe5-4e59-9f65-fe0fb12c4435",
   "metadata": {},
   "outputs": [
    {
     "data": {
      "text/plain": [
       "'xof ma I'"
      ]
     },
     "execution_count": 41,
     "metadata": {},
     "output_type": "execute_result"
    }
   ],
   "source": [
    "rev"
   ]
  },
  {
   "cell_type": "code",
   "execution_count": null,
   "id": "1d9daa22-f16d-49f1-97c6-11fae96fde4e",
   "metadata": {},
   "outputs": [],
   "source": []
  },
  {
   "cell_type": "code",
   "execution_count": null,
   "id": "f6519236-e90f-4c31-bf08-a277569c6afa",
   "metadata": {},
   "outputs": [],
   "source": []
  },
  {
   "cell_type": "code",
   "execution_count": 38,
   "id": "98e26706-1452-4f62-ba0c-e00577361cfd",
   "metadata": {},
   "outputs": [
    {
     "data": {
      "text/plain": [
       "'xof ma I'"
      ]
     },
     "execution_count": 38,
     "metadata": {},
     "output_type": "execute_result"
    }
   ],
   "source": [
    "''.join(list(reversed('I am fox')))"
   ]
  },
  {
   "cell_type": "code",
   "execution_count": null,
   "id": "54be88ae-4fd1-4033-982f-1ab906e99794",
   "metadata": {},
   "outputs": [],
   "source": []
  },
  {
   "cell_type": "code",
   "execution_count": null,
   "id": "da21930f-d0c1-410c-b0c9-b7692f1b265b",
   "metadata": {},
   "outputs": [],
   "source": []
  },
  {
   "cell_type": "code",
   "execution_count": 43,
   "id": "501a91c1-1dd1-46d5-9140-282666b6dd29",
   "metadata": {},
   "outputs": [
    {
     "data": {
      "text/plain": [
       "[1, 2, 2, 4, 5, 5, 6, 8, 34]"
      ]
     },
     "execution_count": 43,
     "metadata": {},
     "output_type": "execute_result"
    }
   ],
   "source": [
    "sorted([1,2,34,5] + [2,4,5,6,8])"
   ]
  },
  {
   "cell_type": "code",
   "execution_count": null,
   "id": "1e7f4da0-5914-4ba6-b908-26ddddfb367c",
   "metadata": {},
   "outputs": [],
   "source": []
  }
 ],
 "metadata": {
  "kernelspec": {
   "display_name": "Python 3",
   "language": "python",
   "name": "python3"
  },
  "language_info": {
   "codemirror_mode": {
    "name": "ipython",
    "version": 3
   },
   "file_extension": ".py",
   "mimetype": "text/x-python",
   "name": "python",
   "nbconvert_exporter": "python",
   "pygments_lexer": "ipython3",
   "version": "3.8.8"
  }
 },
 "nbformat": 4,
 "nbformat_minor": 5
}
