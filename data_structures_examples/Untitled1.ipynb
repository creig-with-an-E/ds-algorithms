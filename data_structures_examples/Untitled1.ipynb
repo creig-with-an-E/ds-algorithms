{
 "cells": [
  {
   "cell_type": "markdown",
   "id": "5f964262-952c-48b5-ab1c-eaaea90ff81a",
   "metadata": {},
   "source": [
    "### Python Cookbook\n",
    "Matching and searching for terms\n",
    "\n"
   ]
  },
  {
   "cell_type": "code",
   "execution_count": null,
   "id": "ceee4724-4f37-48dd-8145-2e6d6b933be4",
   "metadata": {},
   "outputs": [],
   "source": []
  },
  {
   "cell_type": "markdown",
   "id": "9e7efcfb-cde8-4d01-a21c-867663c21f23",
   "metadata": {},
   "source": [
    "matching and searching for text patterns.\n",
    "\n",
    "for simple searches we can get away with \n",
    "- str.find()\n",
    "- str.endswith()\n",
    "- str.startswith()"
   ]
  },
  {
   "cell_type": "code",
   "execution_count": 15,
   "id": "ea74b214-f539-4075-9762-9695c9109e36",
   "metadata": {},
   "outputs": [
    {
     "data": {
      "text/plain": [
       "False"
      ]
     },
     "execution_count": 15,
     "metadata": {},
     "output_type": "execute_result"
    }
   ],
   "source": [
    "text = 'yeah, but no, but yeah, but no, but yeah'\n",
    "\n",
    "text == 'yeah'"
   ]
  },
  {
   "cell_type": "code",
   "execution_count": 16,
   "id": "8984d4fa-285c-49a9-948e-202df846c89a",
   "metadata": {
    "tags": []
   },
   "outputs": [
    {
     "data": {
      "text/plain": [
       "True"
      ]
     },
     "execution_count": 16,
     "metadata": {},
     "output_type": "execute_result"
    }
   ],
   "source": [
    "text.startswith('yeah')"
   ]
  },
  {
   "cell_type": "code",
   "execution_count": 17,
   "id": "0b147640-6583-489e-91b6-9325120ee7e4",
   "metadata": {},
   "outputs": [
    {
     "data": {
      "text/plain": [
       "True"
      ]
     },
     "execution_count": 17,
     "metadata": {},
     "output_type": "execute_result"
    }
   ],
   "source": [
    "text.endswith('yeah')"
   ]
  },
  {
   "cell_type": "code",
   "execution_count": null,
   "id": "55d2bcb8-bcd7-4f1f-9bb9-a8a5296e50ab",
   "metadata": {},
   "outputs": [],
   "source": []
  },
  {
   "cell_type": "code",
   "execution_count": 19,
   "id": "93cb6341-b06c-4351-9c94-4d50ed21fe88",
   "metadata": {},
   "outputs": [
    {
     "name": "stdout",
     "output_type": "stream",
     "text": [
      "yes\n"
     ]
    }
   ],
   "source": [
    "# for matching more complex stuff we fall back to regular expressions\n",
    "text1 = '11/27/2012'\n",
    "text2 = 'Nov 27 2012'\n",
    "\n",
    "import re\n",
    "if re.match(r'\\d+/\\d+/\\d+', text1):\n",
    "    print('yes')\n",
    "else:\n",
    "    print('no')"
   ]
  },
  {
   "cell_type": "code",
   "execution_count": null,
   "id": "eda88db8-3892-4873-9f49-ebc1fb444c9b",
   "metadata": {},
   "outputs": [],
   "source": []
  },
  {
   "cell_type": "code",
   "execution_count": 36,
   "id": "cae0ccf6-32a8-4642-bd82-04e538e75a69",
   "metadata": {},
   "outputs": [],
   "source": [
    "phone_num_regex = re.compile(r'(d+)(-d+)(-d+)')"
   ]
  },
  {
   "cell_type": "code",
   "execution_count": 37,
   "id": "2fb0c395-915c-4b30-a060-8b65869102d6",
   "metadata": {},
   "outputs": [
    {
     "name": "stdout",
     "output_type": "stream",
     "text": [
      "no\n"
     ]
    }
   ],
   "source": [
    "if phone_num_regex.match('780-203-6089'):\n",
    "    print('yes')\n",
    "else:\n",
    "    print('no')"
   ]
  },
  {
   "cell_type": "code",
   "execution_count": null,
   "id": "b765bf41-0620-4041-8c18-f66c4c4cb343",
   "metadata": {},
   "outputs": [],
   "source": []
  },
  {
   "cell_type": "code",
   "execution_count": null,
   "id": "270f0bc7-747e-41d3-b906-796a00e00ec3",
   "metadata": {},
   "outputs": [],
   "source": []
  },
  {
   "cell_type": "code",
   "execution_count": 2,
   "id": "b70cfa9b-41ff-4396-b70e-8b895afa9764",
   "metadata": {},
   "outputs": [],
   "source": [
    "# questions for testing\n",
    "from typing import Iterable, Set\n",
    "import re\n",
    "terms = [\"Apple\", \"Google\", \"Facebook\", \"FedEx\", \"Tesla\",\"Waymo\"]\n",
    "\n",
    "\n",
    "# def strip_excess_spaces(raw_quote):\n",
    "#     '''\n",
    "#     removes newlines and tabs, and replaces with single\n",
    "#     '''\n",
    "    \n",
    "#     return re.sub('\\s+', ' ', raw_quote)\n",
    "\n",
    "\n",
    "# def extract_quoted_terms(text: str, terms: Iterable[str]) -> Set[str]:\n",
    "#     '''\n",
    "#     Extracts company names from passage.\n",
    "#     '''\n",
    "    \n",
    "#     quotes_list = set()\n",
    "#     companies_found = set()\n",
    "    \n",
    "#     # sanitize text and remove \\n and \\t\n",
    "#     sanitized_raw_text = strip_excess_spaces(text)\n",
    "    \n",
    "#     # search for expected: double quotes\n",
    "#     double_quote_ptn = re.compile(r'\\\"(.*?)\\\"')\n",
    "#     quotes_list.update(double_quote_ptn.findall(sanitized_raw_text))\n",
    "    \n",
    "#     # search for rounded quotes\n",
    "#     rounded_quote_ptn = re.compile(r'\\“(.*?)\\”')\n",
    "#     quotes_list.update(rounded_quote_ptn.findall(sanitized_raw_text))\n",
    "    \n",
    "#     def sanitize_quoted_result(mystring):\n",
    "#         '''\n",
    "#         Remove special chars\n",
    "#         '''\n",
    "#         sanitized = re.sub('[^A-Za-z0-9]+', ' ', mystring).strip()\n",
    "#         return sanitized\n",
    "        \n",
    "#     # step 2 search terms\n",
    "#     for quote in quotes_list:\n",
    "#         _sanitized = sanitize_quote(quote)\n",
    "#         matches = list(filter(lambda term: term in _sanitized, terms))\n",
    "#         companies_found.update(matches)\n",
    "\n",
    "#     return companies_found"
   ]
  },
  {
   "cell_type": "code",
   "execution_count": 3,
   "id": "607d46b4-c8f2-494b-abfb-fa71be4a6a6f",
   "metadata": {},
   "outputs": [],
   "source": [
    "# FINAL VERSION\n",
    "\n",
    "def strip_excess_spaces(raw_quote):\n",
    "    '''\n",
    "    removes newlines and tabs, and replaces with single\n",
    "    '''\n",
    "    \n",
    "    return re.sub('\\s+', ' ', raw_quote)\n",
    "\n",
    "\n",
    "def sanitize_quoted_result(quote):\n",
    "    '''\n",
    "    Removes special chars from quoted text\\n\n",
    "    replacing with single space\n",
    "    '''\n",
    "\n",
    "    return re.sub('[^A-Za-z0-9]+', ' ', quote).strip()\n",
    "\n",
    "\n",
    "def extract_quoted_terms(text: str, terms: Iterable[str]) -> Set[str]:\n",
    "    '''\n",
    "    Extracts company names from passage.\n",
    "    '''\n",
    "\n",
    "    quotes_list = set()\n",
    "    companies_found = set()\n",
    "\n",
    "    # remove \\n \\t\n",
    "    _raw_text = strip_excess_spaces(text)\n",
    "    \n",
    "    # search for expected: double quotes\n",
    "    double_quote_ptn = re.compile(r'\\\"(.*?)\\\"')\n",
    "    quotes_list.update(double_quote_ptn.findall(_raw_text))\n",
    "    \n",
    "    # search for rounded quotes\n",
    "    rounded_quote_ptn = re.compile(r'\\“(.*?)\\”')\n",
    "    quotes_list.update(rounded_quote_ptn.findall(_raw_text))\n",
    "\n",
    "    # search for missing closing quote\n",
    "    missing_end_quote_ptn = re.compile(r'\\\"(.*)')\n",
    "    quotes_list.update(missing_end_quote_ptn.findall(_raw_text))\n",
    "\n",
    "    print('quotes list --- ',quotes_list)\n",
    "        \n",
    "    # step 2 search terms\n",
    "    for quote in quotes_list:\n",
    "        _sanitized = sanitize_quoted_result(quote)\n",
    "        # matches = list(filter(lambda term: term in _sanitized, terms))\n",
    "        matches = list(filter(lambda term: re.search(r'\\b%s\\b' % term , _sanitized), terms))\n",
    "        companies_found.update(matches)\n",
    "\n",
    "    return companies_found"
   ]
  },
  {
   "cell_type": "code",
   "execution_count": null,
   "id": "e40bfe72-ffc1-411a-acbb-1d8d3e05ffc8",
   "metadata": {},
   "outputs": [],
   "source": []
  },
  {
   "cell_type": "code",
   "execution_count": 26,
   "id": "842ed520-bb72-44c6-a9d9-36d9658478d5",
   "metadata": {},
   "outputs": [],
   "source": [
    "_pattern = r'|'.join([\n",
    "        r'\\\"(.*?)\\\"$',\n",
    "        r'(\\“(.*?)\\”)$',\n",
    "        r'^\\\"(.*)?'\n",
    "        ]\n",
    "    )\n"
   ]
  },
  {
   "cell_type": "code",
   "execution_count": 42,
   "id": "7e80c49d-222b-40ba-8898-dfacde0b9cbc",
   "metadata": {},
   "outputs": [],
   "source": [
    "search_regx = re.findall(_pattern, '\"Apple\"')"
   ]
  },
  {
   "cell_type": "code",
   "execution_count": 44,
   "id": "65602f99-b58e-4afd-9b9d-4d03bed4db60",
   "metadata": {},
   "outputs": [
    {
     "data": {
      "text/plain": [
       "{'', 'Apple'}"
      ]
     },
     "execution_count": 44,
     "metadata": {},
     "output_type": "execute_result"
    }
   ],
   "source": [
    "results = set()\n",
    "as_list = [ results.update(r_tup) for r_tup in search_regx]\n",
    "\n",
    "results"
   ]
  },
  {
   "cell_type": "code",
   "execution_count": 5,
   "id": "dde4eb65-9ad7-4cd9-beb1-0e4bf0107087",
   "metadata": {},
   "outputs": [
    {
     "name": "stdout",
     "output_type": "stream",
     "text": [
      "quotes list ---  {'Apple'}\n"
     ]
    }
   ],
   "source": [
    "assert extract_quoted_terms('\"Apple', terms) == {\"Apple\"}"
   ]
  },
  {
   "cell_type": "code",
   "execution_count": 20,
   "id": "e2a07a58-acb7-4cd4-b9ca-f030f359da45",
   "metadata": {},
   "outputs": [
    {
     "name": "stdout",
     "output_type": "stream",
     "text": [
      "missing  re.compile('^\\\\\"(.*)?')\n"
     ]
    },
    {
     "data": {
      "text/plain": [
       "['Apple']"
      ]
     },
     "execution_count": 20,
     "metadata": {},
     "output_type": "execute_result"
    }
   ],
   "source": [
    "missing_end_quote_ptn = re.compile(r'^\\\"(.*)?')\n",
    "print('missing ', missing_end_quote_ptn)\n",
    "missing_end_quote_ptn.findall('\"Apple')"
   ]
  },
  {
   "cell_type": "code",
   "execution_count": null,
   "id": "175be7b3-b387-420a-a0a9-f02fb743f946",
   "metadata": {},
   "outputs": [],
   "source": []
  },
  {
   "cell_type": "code",
   "execution_count": 129,
   "id": "30ec44fa-e59b-4eca-97c7-977fca539c73",
   "metadata": {},
   "outputs": [
    {
     "data": {
      "text/plain": [
       "set()"
      ]
     },
     "execution_count": 129,
     "metadata": {},
     "output_type": "execute_result"
    }
   ],
   "source": [
    "# test_case 1:empty \n",
    "extract_quoted_terms(\"\", terms)"
   ]
  },
  {
   "cell_type": "code",
   "execution_count": null,
   "id": "967f961f-7f34-4ab4-8fb9-7ab2b010be3e",
   "metadata": {},
   "outputs": [],
   "source": []
  },
  {
   "cell_type": "code",
   "execution_count": 64,
   "id": "d89e0bca-0317-42be-b5a9-38fdaf973a23",
   "metadata": {},
   "outputs": [
    {
     "name": "stdout",
     "output_type": "stream",
     "text": [
      "found --  []\n"
     ]
    },
    {
     "data": {
      "text/plain": [
       "set()"
      ]
     },
     "execution_count": 64,
     "metadata": {},
     "output_type": "execute_result"
    }
   ],
   "source": [
    "# test case 2: empty\n",
    "extract_quoted_terms(\" \", terms)"
   ]
  },
  {
   "cell_type": "code",
   "execution_count": null,
   "id": "0567f13b-c652-4bdf-af0b-585c0680f634",
   "metadata": {},
   "outputs": [],
   "source": []
  },
  {
   "cell_type": "code",
   "execution_count": 65,
   "id": "b31e083d-2bcd-476d-89ec-ca312756c405",
   "metadata": {},
   "outputs": [
    {
     "name": "stdout",
     "output_type": "stream",
     "text": [
      "found --  []\n"
     ]
    },
    {
     "data": {
      "text/plain": [
       "set()"
      ]
     },
     "execution_count": 65,
     "metadata": {},
     "output_type": "execute_result"
    }
   ],
   "source": [
    "# test case 3: empty\n",
    "extract_quoted_terms(\" \", terms)"
   ]
  },
  {
   "cell_type": "code",
   "execution_count": 66,
   "id": "7fd17447-61e7-41b1-ba75-f252e3b79e2d",
   "metadata": {},
   "outputs": [
    {
     "name": "stdout",
     "output_type": "stream",
     "text": [
      "found --  ['', '']\n"
     ]
    },
    {
     "data": {
      "text/plain": [
       "set()"
      ]
     },
     "execution_count": 66,
     "metadata": {},
     "output_type": "execute_result"
    }
   ],
   "source": [
    "# test case 4: empty terms\n",
    "extract_quoted_terms('\"Apple\"', [])"
   ]
  },
  {
   "cell_type": "code",
   "execution_count": 67,
   "id": "0efa72ff-3f26-4047-befd-9fd5b8c93336",
   "metadata": {},
   "outputs": [
    {
     "name": "stdout",
     "output_type": "stream",
     "text": [
      "found --  []\n"
     ]
    }
   ],
   "source": [
    "# 5\n",
    "assert extract_quoted_terms(\"apple\", terms) == set()"
   ]
  },
  {
   "cell_type": "code",
   "execution_count": 68,
   "id": "94f8f1e6-1d18-4df2-bc4c-43df25b47093",
   "metadata": {},
   "outputs": [
    {
     "name": "stdout",
     "output_type": "stream",
     "text": [
      "found --  []\n"
     ]
    }
   ],
   "source": [
    "assert extract_quoted_terms(\"Apple\", terms) == set()"
   ]
  },
  {
   "cell_type": "code",
   "execution_count": 69,
   "id": "e56dbce8-20e7-46a8-87c8-961c8f1bf3cf",
   "metadata": {},
   "outputs": [
    {
     "name": "stdout",
     "output_type": "stream",
     "text": [
      "found --  ['', '']\n"
     ]
    },
    {
     "ename": "AssertionError",
     "evalue": "",
     "output_type": "error",
     "traceback": [
      "\u001b[0;31m---------------------------------------------------------------------------\u001b[0m",
      "\u001b[0;31mAssertionError\u001b[0m                            Traceback (most recent call last)",
      "\u001b[0;32m<ipython-input-69-ab692047dfae>\u001b[0m in \u001b[0;36m<module>\u001b[0;34m\u001b[0m\n\u001b[0;32m----> 1\u001b[0;31m \u001b[0;32massert\u001b[0m \u001b[0mextract_quoted_terms\u001b[0m\u001b[0;34m(\u001b[0m\u001b[0;34m'\"Apple\"'\u001b[0m\u001b[0;34m,\u001b[0m \u001b[0mterms\u001b[0m\u001b[0;34m)\u001b[0m \u001b[0;34m==\u001b[0m \u001b[0;34m{\u001b[0m\u001b[0;34m\"Apple\"\u001b[0m\u001b[0;34m}\u001b[0m\u001b[0;34m\u001b[0m\u001b[0;34m\u001b[0m\u001b[0m\n\u001b[0m",
      "\u001b[0;31mAssertionError\u001b[0m: "
     ]
    }
   ],
   "source": [
    "\n",
    "assert extract_quoted_terms('\"Apple\"', terms) == {\"Apple\"}"
   ]
  },
  {
   "cell_type": "code",
   "execution_count": null,
   "id": "b21ca1f3-aed4-4637-b0e1-896d97b721b9",
   "metadata": {},
   "outputs": [],
   "source": []
  },
  {
   "cell_type": "code",
   "execution_count": 70,
   "id": "24de8aa8-c680-4745-bc62-fbc465a0aeaa",
   "metadata": {},
   "outputs": [
    {
     "name": "stdout",
     "output_type": "stream",
     "text": [
      "found --  ['', '']\n"
     ]
    }
   ],
   "source": [
    "assert extract_quoted_terms('\"Ap ple\"', terms) == set()\n"
   ]
  },
  {
   "cell_type": "code",
   "execution_count": 71,
   "id": "ab3e1871-9e0d-4d31-91df-30f6b2a54ad5",
   "metadata": {},
   "outputs": [
    {
     "name": "stdout",
     "output_type": "stream",
     "text": [
      "found --  ['', '']\n"
     ]
    },
    {
     "ename": "AssertionError",
     "evalue": "",
     "output_type": "error",
     "traceback": [
      "\u001b[0;31m---------------------------------------------------------------------------\u001b[0m",
      "\u001b[0;31mAssertionError\u001b[0m                            Traceback (most recent call last)",
      "\u001b[0;32m<ipython-input-71-593c71dd5323>\u001b[0m in \u001b[0;36m<module>\u001b[0;34m\u001b[0m\n\u001b[0;32m----> 1\u001b[0;31m \u001b[0;32massert\u001b[0m \u001b[0mextract_quoted_terms\u001b[0m\u001b[0;34m(\u001b[0m\u001b[0;34m'\"Google Apple\"'\u001b[0m\u001b[0;34m,\u001b[0m \u001b[0mterms\u001b[0m\u001b[0;34m)\u001b[0m \u001b[0;34m==\u001b[0m \u001b[0;34m{\u001b[0m\u001b[0;34m\"Google\"\u001b[0m\u001b[0;34m,\u001b[0m \u001b[0;34m\"Apple\"\u001b[0m\u001b[0;34m}\u001b[0m\u001b[0;34m\u001b[0m\u001b[0;34m\u001b[0m\u001b[0m\n\u001b[0m",
      "\u001b[0;31mAssertionError\u001b[0m: "
     ]
    }
   ],
   "source": [
    "assert extract_quoted_terms('\"Google Apple\"', terms) == {\"Google\", \"Apple\"}"
   ]
  },
  {
   "cell_type": "code",
   "execution_count": null,
   "id": "fd15a8d5-384a-449f-b4fa-077a3fc8dc10",
   "metadata": {},
   "outputs": [],
   "source": []
  },
  {
   "cell_type": "code",
   "execution_count": 54,
   "id": "51603c4a-8f86-444c-ac4e-931f1aa4490c",
   "metadata": {},
   "outputs": [],
   "source": [
    "assert extract_quoted_terms('\"Google Apple Facebook\"', terms) == {\n",
    "        \"Google\",\n",
    "        \"Apple\",\n",
    "        \"Facebook\",\n",
    "    }"
   ]
  },
  {
   "cell_type": "code",
   "execution_count": null,
   "id": "ac7608a7-c8dd-48aa-a67e-f1a4fd9316c7",
   "metadata": {},
   "outputs": [],
   "source": []
  },
  {
   "cell_type": "code",
   "execution_count": null,
   "id": "fb65bc6c-00f6-418b-8bcc-1fa549e846cb",
   "metadata": {},
   "outputs": [],
   "source": []
  },
  {
   "cell_type": "code",
   "execution_count": 55,
   "id": "6529b9ec-5fb1-4ab5-a33f-d371f8967a0c",
   "metadata": {},
   "outputs": [],
   "source": [
    "assert extract_quoted_terms('\"Google. Apple! FedEx?\"', terms) == {\n",
    "        \"Google\",\n",
    "        \"Apple\",\n",
    "        \"FedEx\",\n",
    "    }"
   ]
  },
  {
   "cell_type": "code",
   "execution_count": null,
   "id": "d2ab2ad2-16b3-4123-beb3-ba4c97f484c7",
   "metadata": {},
   "outputs": [],
   "source": []
  },
  {
   "cell_type": "code",
   "execution_count": 56,
   "id": "1f295d16-dc05-4d79-96cc-c850ad131240",
   "metadata": {},
   "outputs": [
    {
     "data": {
      "text/plain": [
       "True"
      ]
     },
     "execution_count": 56,
     "metadata": {},
     "output_type": "execute_result"
    }
   ],
   "source": [
    "extract_quoted_terms(\n",
    "        \"\\\"Apple's CEO said, Google is our primary competitor\", terms\n",
    "    ) == {\"Apple\", \"Google\"}"
   ]
  },
  {
   "cell_type": "code",
   "execution_count": 57,
   "id": "b48fcaf1-6757-473c-b590-2649744c3a06",
   "metadata": {},
   "outputs": [],
   "source": [
    "assert extract_quoted_terms('\"FedEx\"', terms) == {\"FedEx\"}"
   ]
  },
  {
   "cell_type": "code",
   "execution_count": null,
   "id": "6663ca94-2a84-46a5-a024-c890a3259eb5",
   "metadata": {},
   "outputs": [],
   "source": []
  },
  {
   "cell_type": "code",
   "execution_count": 1,
   "id": "aa635463-5319-4056-8d85-385e96bd040b",
   "metadata": {},
   "outputs": [],
   "source": [
    "# Keeping the last N Items"
   ]
  },
  {
   "cell_type": "code",
   "execution_count": 2,
   "id": "f131a000-2d42-4782-9c6c-68abd599ea90",
   "metadata": {},
   "outputs": [],
   "source": [
    "from collections import deque\n",
    "\n",
    "def search(lines, pattern, history=5):\n",
    "    previous_lines = deque(maxlen=history)\n",
    "    for line in lines:\n",
    "        if pattern in line:\n",
    "            yield line, previous_lines\n",
    "        previous_lines.append(line)\n"
   ]
  },
  {
   "cell_type": "code",
   "execution_count": 6,
   "id": "f6b82e00-a0fe-4880-a91d-24559b0ac43a",
   "metadata": {},
   "outputs": [],
   "source": [
    "for line, previous_lines in search(['This is python', 'This is something', 'yellow', ''], 'python', 3):\n",
    "    for pline in previous_lines:\n",
    "        print(pline)"
   ]
  },
  {
   "cell_type": "code",
   "execution_count": null,
   "id": "061a1e9d-83bb-4c8d-a097-67ad3f0be1d4",
   "metadata": {},
   "outputs": [],
   "source": []
  },
  {
   "cell_type": "code",
   "execution_count": null,
   "id": "4d6b0eb3-d85c-4282-a159-379cd89abe9c",
   "metadata": {},
   "outputs": [],
   "source": []
  }
 ],
 "metadata": {
  "kernelspec": {
   "display_name": "Python 3",
   "language": "python",
   "name": "python3"
  },
  "language_info": {
   "codemirror_mode": {
    "name": "ipython",
    "version": 3
   },
   "file_extension": ".py",
   "mimetype": "text/x-python",
   "name": "python",
   "nbconvert_exporter": "python",
   "pygments_lexer": "ipython3",
   "version": "3.8.8"
  }
 },
 "nbformat": 4,
 "nbformat_minor": 5
}
